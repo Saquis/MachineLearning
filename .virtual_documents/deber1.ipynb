





#Concatenar número y cadena

n = 3 # Asignación de variable 
s = 'abc' 
print (str(n) + s)





# Definir  los valores 

N = 10
a = 3 
b = 8 

# Verificar si N esta entre a  (inc) y b (exclusive)

esta_en = a <= N < b 

# Resultado 
print(esta_en) 





# Definir variable
S1 = "xyzabcd"
S2 = "abc"
N1 = 3
N2 = 4 

# Extraer el fragmento de S1 desde N1 hasta N2 
sub = S1[ N1 : N2 + 1 ]

# Verificación 
contenido = sub  in S2 

# Mostrar resultado 
print(contenido)



