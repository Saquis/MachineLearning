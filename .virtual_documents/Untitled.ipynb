





import matplotlib.pyplot as plt


import numpy as np
import pandas as pd


%matplotlib --list


# magic command para visualizar gráficos en jupyter en modo no interactivo
%matplotlib inline



# activar modo interactivo
%matplotlib notebook
plt.ioff() # evitar que se sobreescriban los gráficos
# %matplotlib inline


import numpy as np
import matplotlib.pyplot as plt

# Se pueden especificar x e y por separado
x_data = np.arange(75, 100)  # dimensiones!
y_data = np.random.randint(0, 81, size=(25))  # Corregido: especifica min y max
print(x_data, y_data)

if x_data.size == y_data.size:
    plt.plot(x_data, y_data)
    plt.xlabel('Valores X')
    plt.ylabel('Valores Y')
    plt.title('Gráfico de X vs Y')
    plt.grid(True)
    plt.show()      
else:
    print(f"{x_data.size} no tienen las mismas dimensiones {y_data.size}")





fig, axes = plt.subplots(3,2) # crea una ndarray de 1x2 axes (o subplots)
print(type(axes))
print(axes.shape)


# Generar los datos
x_data1 = np.arange(0,10)
x_data2 = np.arange(-10,0)
y_data1 = np.random.randint(100,size=(10))
y_data2 = np.random.randint(1000,size=(10))


import numpy as np
import matplotlib.pyplot as plt

# Datos de ejemplo (define tus propios datos)
x_data1 = np.arange(75, 100)
y_data1 = np.random.randint(0, 81, size=(25))

x_data2 = np.arange(50, 75)
y_data2 = np.random.randint(0, 81, size=(25))

# Crear la figura y los subplots
fig, axes = plt.subplots(1, 2, figsize=(12, 5))

# Preparar cada subplot
axes[0].plot(x_data1, y_data1, 'b-o', markersize=4)
axes[0].set_title('Gráfico 1')
axes[0].set_xlabel('X1')
axes[0].set_ylabel('Y1')
axes[0].grid(True)

axes[1].plot(x_data2, y_data2, 'r-s', markersize=4)
axes[1].set_title('Gráfico 2')
axes[1].set_xlabel('X2')
axes[1].set_ylabel('Y2')
axes[1].grid(True)

# Ajustar el espaciado entre subplots
plt.tight_layout()

# Mostrar ambos axes
plt.show()  # Recomendable usar plt y no fig.show()


!pip install --upgrade ipython



as



