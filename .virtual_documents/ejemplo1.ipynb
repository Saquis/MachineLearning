


# Esto es una instrucción print
print('Hello world')   # Esto es una instrucción print


def producto(x, y):
    '''
        Esta función recibe dos números como parámetros y devuelve
        como resultado el producto de los mismos.
    '''
    return x * y


print(producto(3, 4))


a = 1                 # entero
b = 4.0               # coma flotante
c = "VIU"             # string
d = 10 + 1j           # número complejo
e = True              # booleano (también puede ser False)
f = None              # NoneType

# Mostrar valor y tipo de cada variable
print(a)
print(type(a))

print(b)
print(type(b))

print(c)
print(type(c))

print(d)
print(type(d))

print(e)
print(type(e))

print(f)
print(type(f))


# Asignamos un entero a 'a'
a = 3
print(id(a))  # Imprime la identidad del objeto entero 3

# Asignamos una cadena a 'a'
a = 'Pablo García'
print(id(a))  # Imprime la identidad del objeto cadena 'Pablo García'

# Asignamos un float a 'a'
a = 4.5
print(id(a))  # Imprime la identidad del objeto flotante 4.5


a = 4567
print(id(a))

b = a
print(id(b))

c = 4567
print(id(c))



a = 25
b = 25
c = 25

print(id(a))
print(id(b))
print(id(c))


a = 258
b = 258

print(id(a))
print(id(b))
print(id(258))


# Asignación de variables y uso de id()
a = 400
b = a
print("Identidad de 'a':", id(a))
print("Identidad de 'b':", id(b))

# Variables en expresiones
a = 3
b = 5
c = a + b
print("Resultado de la suma:", c)
print("Identidad de 'c':", id(c))


# Ejemplo 1: Uso de la función pow()
print(pow(3, 3))  # Eleva 3 a la potencia de 3
print(pow(2, 2))  # Eleva 2 a la potencia de 2

# Ejemplo 2: Reasignación de una función built-in (pow)
# pow = 1  # Esto reasigna la función built-in 'pow' a un entero
# print(pow)  # Ahora 'pow' es un entero
# print(pow(3, 2))  # Esto generará un error porque 'pow' ya no es una función

# Ejemplo 3: Definición de una función personalizada
def pow(a, b):
    return a + b

# Ejemplo 4: Asignación múltiple de variables
x, y, z = 1, 2, 3
print(x, y, z)

t = x, y, z, "Python"
print(t)
print(type(t))

# Ejemplo 5: Intercambio de valores entre dos variables
a = 1
b = 2
a, b = b, a  # Intercambia los valores de 'a' y 'b'
print(a, b)

# Ejemplo 6: Intercambio de valores usando una variable temporal
a = 1
b = 2
c = a  # Guarda el valor de 'a' en 'c'
a = b  # Asigna el valor de 'b' a 'a'
b = c  # Asigna el valor guardado en 'c' a 'b'
print(a, b)


# Variables booleanas
a = False
b = True

print(a)
print(type(a))

print(b)
print(type(b))

#  Identidad de objetos booleanos
a = True
b = True

print(id(a))
print(id(b))

print(a is b)  # Comprueba si 'a' y 'b' son el mismo objeto
print(a == b)  # Comprueba si 'a' y 'b' tienen el mismo valor

# Ejemplo 3: Diferentes tipos de números
print(2)        # Entero (sin parte fraccionaria)
print(3.4)      # Número flotante (con parte fraccionaria)
print(2 + 4j)   # Número complejo
print(1 / 2)    # Número racional (fracción)

# Ejemplo 4: Representaciones numéricas en diferentes bases
x = 58          # Decimal
z = 0b000111010 # Binario
w = 0o72        # Octal
y = 0x3A        # Hexadecimal

print(x == y == z == w)  # Verifica si todos representan el mismo número


#  Operaciones con cadenas (strings)
s = 'John "ee" Doe'

print(s[0])          # Primer carácter del string.
print(s[-1])         # Último carácter del string.
print(s[1:8])        # Substring desde el segundo carácter (inclusive) hasta el octavo (exclusivo).
print(s[:])          # Todo el string.
print(s + "z")       # Concatenación.

# Conversión entre tipos (casting)
a = int(2.8)         # a será 2
b = int("3")         # b será 3
c = float(1)         # c será 1.0
d = float("3")       # d será 3.0
e = str(2)           # e será '2'
f = str(3.0)         # f será '3.0'
g = bool("a")        # g será True
h = bool("")         # h será False
i = bool(3)          # i será True
j = bool(0)          # j será False
k = bool(None)       # k será False

print(a)
print(type(a))
print(b)
print(type(b))
print(c)
print(type(c))
print(d)
print(type(d))
print(e)
print(type(e))
print(f)
print(type(f))
print(g)
print(type(g))
print(h)
print(type(h))
print(i)
print(type(i))
print(j)
print(type(j))
print(k)
print(type(k))


#  Operaciones aritméticas básicas
x = 3
y = 2

print('x + y = ', x + y)    # Suma
print('x - y = ', x - y)    # Resta
print('x * y = ', x * y)    # Multiplicación
print('x / y = ', x / y)    # División (resultado flotante)
print('x // y = ', x // y)  # División entera (parte entera del cociente)
print('x % y = ', x % y)    # Módulo (resto de la división)
print('x ** y = ', x ** y)  # Potencia

#  Operadores de comparación
x = 10
y = 12

print('x > y es ', x > y)   # Mayor que
print('x < y es ', x < y)   # Menor que
print('x == y es ', x == y) # Igualdad
print('x != y es ', x != y) # Desigualdad
print('x >= y es ', x >= y) # Mayor o igual que
print('x <= y es ', x <= y) # Menor o igual que

#  Operadores lógicos
a = True
b = False

print('a and b es', a and b)  # AND lógico
print('a or b es', a or b)    # OR lógico
print('a ^ b es', a ^ b)      # XOR lógico


#  Operadores de pertenencia
x = 'Hola Mundo'
y = {1:'a', 2:'b'}

print('H' in x)          # True
print('hola' not in x)   # True

print(1 in y)            # True
print('a' in y)          # False

#  Entrada de valores
value = input("Inserte valor:")
print(value)

#  Conversión de grados Celsius a Fahrenheit
grados_c = input("Conversión de grados a Fahrenheit, inserte un valor: ")
print(f"Grados F: {1.8 * int(grados_c) + 32}")


# Creación de listas
letras = ['a', 'b', 'c', 'd']  # Lista de caracteres
palabras = 'Hola mundo'.split()  # Divide una cadena en subcadenas usando split()
numeros = list(range(5))  # Crea una lista con números del 0 al 4

# Acceso a elementos de una lista
print(letras[2])  # Acceso al tercer elemento (índice 2)
print(letras[-1])  # Acceso al último elemento (índice -1)

# Características de las listas
mezcla = [1, 3.4, 'a', None, False]  # Pueden contener elementos heterogéneos
lista_con_funcion = [1, 2, len]  # Pueden contener objetos más "complejos"
lista_con_duplicados = [1, 2, 3, 3, 3, 4]  # Pueden contener duplicados


# Slicing: Obtención de un fragmento de una lista
letras = ['a', 'b', 'c', 'd']

print(letras[1:3])  # Toma elementos desde el índice 1 hasta el 2 (excluyendo el 3)
print(letras[:1])   # Toma todos los elementos desde el inicio hasta el índice 0
print(letras[:-1])  # Toma todos los elementos desde el inicio hasta el penúltimo
print(letras[2:])   # Toma todos los elementos desde el índice 2 hasta el final
print(letras[:])    # Copia completa de la lista
print(letras[::2])  # Toma elementos con un paso de 2

# Copiar una lista
a = letras[:]
print(a)
print(id(a))  # Verifica la identidad de la copia

print(letras.copy())  # Otra forma de copiar una lista
print(id(letras.copy()))  # Verifica la identidad de la copia

# Añadir un elemento al final de la lista
letras.append('e')
print(letras)

# Concatenar elementos a la lista
letras += 'f'
print(letras)


# Modificación de elementos en una lista
letras = ['a', 'b', 'c', 'd', 'e']

# Agregar un nuevo elemento al final
letras.append('f')  # Forma correcta de agregar al final
print("Lista después de append:", letras)
print("ID de la lista:", id(letras))  # Verificar que es la misma lista

# Opcional: Insertar en una posición específica
letras.insert(5, 'z')  # Inserta 'z' en la posición 5
print("Lista después de insert:", letras)

# Modificación múltiple usando slicing
letras = ['a', 'b', 'c', 'd', 'e', 'f', 'g', 'h', 'i', 'j', 'k']

# Reemplazar elementos seleccionados por slicing con paso
letras[0:6:2] = ['z', 'z', 'z']  # Ahora coincide el tamaño
print("Lista después de slicing:", letras)
print("ID de la lista después de reasignación:", id(letras))

# Diferencia entre modificación individual y múltiple
numeros = [1, 2, 3]
numeros[1] = [10, 20, 30]  # Asignación individual crea anidamiento
print("Lista con anidamiento:", numeros)

# Acceso a elementos anidados
print("Elemento anidado:", numeros[1][2])  # Acceder al tercer elemento del subelemento anidado

# Eliminar un elemento
if 'z' in letras:
    letras.remove('z')  # Eliminar la primera ocurrencia de 'z'
print("Lista después de remove:", letras)

# Eliminar el último elemento y devolverlo
elemento = letras.pop()
print("Elemento eliminado:", elemento)  # Imprimir el elemento eliminado
print("Lista final:", letras)  # Imprimir la lista actualizada


# Copiar una lista
frutas = ['manzana', 'banana', 'cereza']
frutas2 = frutas.copy()  # Copia de la lista original
print("frutas:", frutas)
print("frutas2:", frutas2)

# Ordenar una lista
lista = [4, 3, 8, 1]
lista.sort()  # Ordena la lista en orden ascendente
print("Lista ordenada (ascendente):", lista)

lista.sort(reverse=True)  # Ordena la lista en orden descendente
print("Lista ordenada (descendente):", lista)

# Los elementos deben ser comparables para poderse ordenar
# Intentar ordenar una lista con tipos diferentes generará un error
# lista = [1, "a"]
# lista.sort()  # Esto dará un TypeError

# Ordenar una lista usando sorted()
compra = ['Huevos', 'Pan', 'Leche']
print("Lista original:", compra)
print("Lista ordenada:", sorted(compra))

# Pertenencia
lista = [1, 2, 3, 4]
print(1 in lista)  # Verifica si 1 está en la lista
print(5 in lista)  # Verifica si 5 está en la lista

# Anidamiento
letras = ['a', 'b', 'c', ['x', 'y'], ['i', 'j', 'k']]
print(letras[0])  # Acceso al primer elemento
print(letras[3][0])  # Acceso a un elemento anidado
print(letras[4][2][0])  # Acceso a un elemento más anidado



