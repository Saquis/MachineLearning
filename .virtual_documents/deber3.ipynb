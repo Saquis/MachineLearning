





import matplotlib.pyplot as plt


import numpy as np
import pandas as pd


%matplotlib --list


# magic command para visualizar gráficos en jupyter en modo no interactivo
%matplotlib inline



# activar modo interactivo
%matplotlib notebook
plt.ioff() # evitar que se sobreescriban los gráficos
# %matplotlib inline


import numpy as np
import matplotlib.pyplot as plt

# Se pueden especificar x e y por separado
x_data = np.arange(75, 100)  # dimensiones!
y_data = np.random.randint(0, 81, size=(25))  # Corregido: especifica min y max
print(x_data, y_data)

if x_data.size == y_data.size:
    plt.plot(x_data, y_data)
    plt.xlabel('Valores X')
    plt.ylabel('Valores Y')
    plt.title('Gráfico de X vs Y')
    plt.grid(True)
    plt.show()      
else:
    print(f"{x_data.size} no tienen las mismas dimensiones {y_data.size}")





fig, axes = plt.subplots(3,2) # crea una ndarray de 1x2 axes (o subplots)
print(type(axes))
print(axes.shape)


# Generar los datos
x_data1 = np.arange(0,10)
x_data2 = np.arange(-10,0)
y_data1 = np.random.randint(100,size=(10))
y_data2 = np.random.randint(1000,size=(10))


import numpy as np
import matplotlib.pyplot as plt

# Datos de ejemplo (define tus propios datos)
x_data1 = np.arange(75, 100)
y_data1 = np.random.randint(0, 81, size=(25))

x_data2 = np.arange(50, 75)
y_data2 = np.random.randint(0, 81, size=(25))

# Crear la figura y los subplots
fig, axes = plt.subplots(1, 2, figsize=(12, 5))

# Preparar cada subplot
axes[0].plot(x_data1, y_data1, 'b-o', markersize=4)
axes[0].set_title('Gráfico 1')
axes[0].set_xlabel('X1')
axes[0].set_ylabel('Y1')
axes[0].grid(True)

axes[1].plot(x_data2, y_data2, 'r-s', markersize=4)
axes[1].set_title('Gráfico 2')
axes[1].set_xlabel('X2')
axes[1].set_ylabel('Y2')
axes[1].grid(True)

# Ajustar el espaciado entre subplots
plt.tight_layout()

# Mostrar ambos axes
plt.show()  # Recomendable usar plt y no fig.show()


# Crear la figura y los subplots
fig, axes = plt.subplots(1,2)
# preparar cada subplot
axes[0].plot(x_data1,y_data1)
axes[1].plot(x_data2,y_data2)

# tanto axes como fig pueden configurarse a través de funciones
axes[0].set_ylim([0,1000])
axes[0].set_xlim([-1,12])

axes[0].set_xlabel("Years")
axes[0].set_ylabel("Dollars")

axes[1].set_ylim([0,1000]) 
axes[1].set_xlim([-11,1])

axes[1].set_xlabel("Years")
axes[1].set_ylabel("Dollars", loc="center", labelpad=-210)

plt.show()





y_data = np.random.randint(100,size=(10))
x_data = np.arange(10)

fig,axis = plt.subplots(1,1)
axis.plot(x_data,y_data,'g*--',label='dollars',linewidth=1,alpha=0.9) # creación del gráfico
axis.legend(loc='best') # representar la leyenda
plt.show()


x_data = np.arange(10)
fig,axis = plt.subplots(1,1)
axis.plot(x_data,np.random.randint(100,size=(10)),'go-',label='green',linewidth=1,alpha=0.2) # creación del gráfico
axis.plot(x_data,np.random.randint(100,size=(10)),'bx-.',label='blue',linewidth=1) # creación del gráfico
axis.plot(x_data,np.random.randint(50,80,size=(10)),'rh-.',label='red',linewidth=2, alpha=0.4) # creación del gráfico
axis.legend(loc='best')
plt.grid()
plt.show() 





y_data = np.random.randint(100, size=(10)) # Cuidado con las dimensiones absolutas
x_data = np.arange(10)


fig,axis = plt.subplots(1,1)
axis.plot(x_data,y_data)
# axis.text(x_data[1],y_data[1],'Low income') # coordenadas igual a los datos
axis.annotate('Low Income', xy=(x_data[1],y_data[1]), xytext=(5, 10), arrowprops = dict(facecolor='red', shrink=1.0)) # anotación completa
plt.show() 





# Horizontal bar
fig, ax = plt.subplots()
# Example data
people = ('PhD', 'MSc', 'BSc', 'N/A')
y_pos = np.arange(len(people))
percentage = [5,45,25,25]

# print(y_pos)
ax.barh(y_pos, percentage, align='center',
        color='green', edgecolor='red')
ax.set_yticks(y_pos)
ax.set_yticklabels(people)
ax.invert_yaxis()  # labels read top-to-bottom
ax.set_xlabel('Percentage of workforce')
ax.set_title('Level of education in the company')
plt.show()


ls_count = (284487, 244560, 208493, 196764)
cities = ('Madrid', 'Barcelona', 'Sevilla', 'Valencia')
data = np.array(ls_count)/1000
y_pos = np.arange(data.size)

width = 0.35       # the width of the bars
opacity = 0.7

fig, ax = plt.subplots()
rects1 = ax.barh(y_pos, data, width, alpha=opacity)

rects1[3].set_color('#872f29')
rects1[2].set_color('#ffcb59')
rects1[1].set_color('#d6ee39')
rects1[0].set_color('#6ade30')

ax.set_yticks(y_pos)
ax.set_yticklabels(cities)

# add some text for labels, title and axes ticks
ax.set_ylabel('Ciudades')
ax.set_xlabel('Km de carril bici')

ax.legend((rects1[0], rects1[1], rects1[2], rects1[3]), cities)

plt.show()


# stack plot
x = [2008, 2009, 2010, 2011, 2012]
iOS = [35, 25, 20, 17, 18]
Android = [0, 15, 35, 45, 60]
WindowsPhone = [1, 3, 5, 5, 2]
Others = [64,57,40,33,20]

# y = np.vstack([iOS, Android, WindowsPhone,Others])
# print(y)

labels = ["iOS ", "Android", "WindowsPhone", "Others"]

fig, ax = plt.subplots()
ax.stackplot(x, iOS, Android, WindowsPhone, Others,labels=labels)
# ax.stackplot(x, y, labels=labels)
ax.set_xticks(x)
ax.legend(loc='upper left')
plt.show()


# Scatter plot
from numpy.random import rand

fig, ax = plt.subplots()
n = 700
for color in ['red', 'green', 'blue']:
    x, y = rand(2, n)
    scale = 25.0 * rand(n)
    ax.scatter(x, y, c=color, s=scale, label=color,
               alpha=0.3, edgecolors='none')

ax.legend()
plt.show()





# guardar la figura (puede ser múltiples gráficos)
import os

# Crear el directorio si no existe
os.makedirs("res", exist_ok=True)

ruta = os.path.join("res", "o_figure.png")
fig.savefig(ruta, format='png')  # varios formatos aceptados ('pdf', 'png', 'svg', 'eps'...)


import pandas as pd
import numpy as np
import matplotlib.pyplot as plt

rand_matrix = np.random.randint(100,size=(10,3))
frame = pd.DataFrame(rand_matrix, columns=list('AXC'))
frame.plot()
plt.show() # aún es necesario llamar a show() para mostrar los gráficos

display(frame) # datos en eje x, eje y, leyenda, series?


rand_matrix = np.random.randint(100, size=(10,3))
frame = pd.DataFrame(rand_matrix, columns=list('ABC'))
frame.plot(style=['r-','g-','b-'], xticks=range(-2,12), title='Random lines', subplots=True)
plt.show()
display(frame)


# combinar pandas plot con matplotlib
rand_matrix = np.random.randint(100, size=(10,3))
frame = pd.DataFrame(rand_matrix, columns=list('ABC'))

fig, axis = plt.subplots(3,1)
ax = frame.plot(style=['r-','g-','b-'], xticks=range(-2,12), title='Random lines', subplots=True, ax=axis)

ax[0].legend(loc='upper left')

plt.show()


# Gráfico de barras
frame.plot(kind='bar', title='Random lines')
plt.show()    


# Gráfico de área
frame.plot(kind='area', xticks=range(-2,12), title='Random lines')
plt.show()


# Histogramas
frame.hist()
plt.show()


# Gráfico de pastel
df = pd.DataFrame({'mass': [0.330, 4.87 , 5.97], 
                   'radius': [2439.7, 6051.8, 6378.1]}, 
                  index=['Mercury', 'Venus', 'Earth'])
display(df)
df.plot(y='mass', kind='pie', title='Planets') # y variable a usar
plt.show()





import seaborn as sns
import matplotlib.pyplot as plt

# Load data
flights_data = sns.load_dataset("flights")
# display(flights_data)

# Construct plot
sns.swarmplot(x="month", y="passengers", data=flights_data)

# Show plot
plt.xticks(rotation=45)
plt.show()


# Load in data
tips = pd.read_csv("https://raw.githubusercontent.com/mwaskom/seaborn-data/master/tips.csv")
tips.sample(5)


sns.barplot(x='sex', y='tip', hue='time', data=tips) # palette para color (negro desviacion)
plt.show()


# Boxplot (cuartiles)
sns.boxplot(x='day', y='tip', data=tips)
# sns.boxplot(x=tips['day'], y=tips.tip)
plt.show()


tips = sns.load_dataset("tips")
tips.sample(5)


sns.relplot(x='total_bill', y='tip', hue='sex', data=tips, kind='scatter')
plt.show()


# representar la media y la variación de una variable en función de otra
data = sns.load_dataset('flights')
sns.relplot(x="year", y="passengers", kind="line", data=data)
plt.show()


# relacionar hasta 4 variables automáticamente
sns.relplot(x="total_bill", y="tip", hue="smoker",
            col="sex", height=4,
            kind="scatter",data=tips); #kind ('line','scatter'...)
plt.show()





# histograma y density plot
# kde = gaussian kernel density estimate, linea de densidad
# bins = tamaño de los contenedores
# rug = densidad de los datos
sns.displot(tips['tip'], kde=True, bins=10, rug=True)
plt.show()


# Distribución bi-variable
sns.jointplot(x='total_bill', y='tip', data=tips)
plt.show()


# Density plot bi-variable
iris = sns.load_dataset('iris')
display(iris.head(5))
display(iris["species"].unique())
sns.jointplot(x='petal_length', y='petal_width', kind="kde", data=iris)
plt.show()


# Relación de cada pareja
sns.pairplot(iris)
plt.show()


# Relación de cada pareja
sns.pairplot(iris, hue = "species")
plt.show()


#scatter de clases, coloreando segun clase en matplotlib
iris = sns.load_dataset('iris')

# preparacion de los datos
data = []
colors = ["red", "green", "blue"]
groups = ["setosa", "versicolor", "virginica"]
columns = ["petal_length", "petal_width"]
for i in groups:
    # busqueda por clase definida
    data.append(iris[iris["species"] == i][columns].values)


#creacion de la grafica
fig = plt.figure()
ax = fig.add_subplot()
for count, d in enumerate(data):
    # separar las variables del grafico
    x, y = d[:,0], d[:,1]
    ax.scatter(x, y, alpha = 0.4, c = colors[count -1], edgecolors = 'none', s = 30, label = groups[count - 1])
#etiquetas
ax.set_xlabel(columns[0])
ax.set_ylabel(columns[1])
plt.legend(loc='best')
plt.title('Matplot scatter plot')
plt.show()





#correlación entre cuenta total y propina, recta regresion e intervalo de confianza
sns.regplot(x="total_bill", y="tip", data=tips)
plt.show()


#correlación con valores categóricos (variable discreta, variable debe ser numérica/continua) not a good idea
sns.regplot(x="size", y="tip", data=tips)
plt.show()


# regresión con polinomios de más grados
sns.regplot(x="petal_length", y="sepal_width", data=iris, order=5)
plt.show()


# Correlaciones con varias variables
sns.lmplot(x="total_bill", y="tip", hue="smoker", data=tips, col='time', order=2)
plt.show()



