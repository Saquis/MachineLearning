{
 "cells": [
  {
   "cell_type": "markdown",
   "id": "e0ac1e97-39c1-4f6e-b7db-91eefba7bf8c",
   "metadata": {},
   "source": [
    "# 01PAO25-25 - Python, Data Types\n",
    "\n",
    "![Instituto Superior Tecnológico Quito](img/Recurso-26.png)\n",
    "\n",
    "**Nombre:** Germán Del Río  \n",
    "**Fecha:** 07/07/2055  \n",
    "**PruebaN:** 02\n",
    "\n",
    "---\n",
    "\n",
    "![Python Logo](img/python_logo.png)\n",
    "\n",
    "[-- Enlace al Repositorio](https://github.com/Saquis/MachineLearning/tree/main/Pruebas)"
   ]
  },
  {
   "cell_type": "code",
   "execution_count": null,
   "id": "24a16c6b-29d1-453f-b78a-4a3fa792b469",
   "metadata": {},
   "outputs": [],
   "source": []
  }
 ],
 "metadata": {
  "kernelspec": {
   "display_name": "Python 3 (ipykernel)",
   "language": "python",
   "name": "python3"
  },
  "language_info": {
   "codemirror_mode": {
    "name": "ipython",
    "version": 3
   },
   "file_extension": ".py",
   "mimetype": "text/x-python",
   "name": "python",
   "nbconvert_exporter": "python",
   "pygments_lexer": "ipython3",
   "version": "3.13.5"
  }
 },
 "nbformat": 4,
 "nbformat_minor": 5
}
