{
 "cells": [
  {
   "cell_type": "markdown",
   "id": "6129a0ae-f28a-4534-9dcc-f81ae7601a2c",
   "metadata": {},
   "source": [
    "# 01PAO25-25 - Python, Data Types\n",
    "\n",
    "![Instituto Superior Tecnológico Quito](img/Recurso-26.png)\n",
    "\n",
    "**Nombre:** Germán Del Río  \n",
    "**Fecha:**  27/06/2055\n",
    "\n",
    "---\n",
    "\n",
    "\n",
    "![Python Logo](img/python_logo.png)\n",
    "\n",
    "<a href=\"https://github.com/Saquis/MachineLearning.git \">Enlace al Repositorio</a>"
   ]
  },
  {
   "cell_type": "markdown",
   "id": "aeaf09d6-4b8a-43ea-99a7-afcdbc66d097",
   "metadata": {},
   "source": [
    "1. Escribe un programa que muestre por pantalla la concatenación de un número y una cadena de caracteres. Para obtener esta concatenación puedes usar uno de los operadores explicados en este tema. Ejemplo: dado el número 3 y la cadena 'abc', el programa mostrará la cadena '3abc'.\n"
   ]
  },
  {
   "cell_type": "code",
   "execution_count": 5,
   "id": "fd4f1579-fdac-4417-bf00-e3f1da585463",
   "metadata": {},
   "outputs": [
    {
     "name": "stdout",
     "output_type": "stream",
     "text": [
      "3abc\n"
     ]
    }
   ],
   "source": [
    "#Concatenar número y cadena\n",
    "\n",
    "n = 3 # Asignación de variable \n",
    "s = 'abc' \n",
    "print (str(n) + s)"
   ]
  },
  {
   "cell_type": "markdown",
   "id": "01794c1c-0e2d-45ba-87a1-d26dad7e865f",
   "metadata": {},
   "source": [
    "2. Escribe un programa que muestre por pantalla un valor booleano que indique si un número entero N está contenido en un intervalo semiabierto [a,b), el cual establece una cota inferior a (inclusive) y una cota superior b (exclusive) para N.\n",
    "   "
   ]
  },
  {
   "cell_type": "code",
   "execution_count": 7,
   "id": "9b77705e-584b-4ffe-a58c-9a1b57c482ef",
   "metadata": {},
   "outputs": [
    {
     "name": "stdout",
     "output_type": "stream",
     "text": [
      "False\n"
     ]
    }
   ],
   "source": [
    "# Definir  los valores \n",
    "\n",
    "N = 10\n",
    "a = 3 \n",
    "b = 8 \n",
    "\n",
    "# Verificar si N esta entre a  (inc) y b (exclusive)\n",
    "\n",
    "esta_en = a <= N < b \n",
    "\n",
    "# Resultado \n",
    "print(esta_en) "
   ]
  },
  {
   "cell_type": "markdown",
   "id": "148d91dd-85c9-429a-a060-d233c80a58c0",
   "metadata": {},
   "source": [
    "3. Escribe un programa que, dado dos strings *S1* y *S2* y dos números enteros *N1* y *N2*, determine si el substring que en *S1* se extiende desde la posición *N1* a la *N2* (ambos inclusive) está contenido en *S2*.\n",
    "\n"
   ]
  },
  {
   "cell_type": "code",
   "execution_count": 9,
   "id": "3f6c5ae2-009a-4cc2-8373-6b19205f0dc8",
   "metadata": {},
   "outputs": [
    {
     "name": "stdout",
     "output_type": "stream",
     "text": [
      "True\n"
     ]
    }
   ],
   "source": [
    "# Definir variable\n",
    "S1 = \"xyzabcd\"\n",
    "S2 = \"abc\"\n",
    "N1 = 3\n",
    "N2 = 4 \n",
    "\n",
    "# Extraer el fragmento de S1 desde N1 hasta N2 \n",
    "sub = S1[ N1 : N2 + 1 ]\n",
    "\n",
    "# Verificación \n",
    "contenido = sub  in S2 \n",
    "\n",
    "# Mostrar resultado \n",
    "print(contenido)"
   ]
  },
  {
   "cell_type": "code",
   "execution_count": null,
   "id": "b5295cdb-5e93-4c18-b571-0aab38c9a0ae",
   "metadata": {},
   "outputs": [],
   "source": []
  }
 ],
 "metadata": {
  "kernelspec": {
   "display_name": "Python 3 (ipykernel)",
   "language": "python",
   "name": "python3"
  },
  "language_info": {
   "codemirror_mode": {
    "name": "ipython",
    "version": 3
   },
   "file_extension": ".py",
   "mimetype": "text/x-python",
   "name": "python",
   "nbconvert_exporter": "python",
   "pygments_lexer": "ipython3",
   "version": "3.13.5"
  }
 },
 "nbformat": 4,
 "nbformat_minor": 5
}
