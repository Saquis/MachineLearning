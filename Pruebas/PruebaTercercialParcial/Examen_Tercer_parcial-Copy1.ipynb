{
 "cells": [
  {
   "cell_type": "markdown",
   "id": "e4d36667-1cd3-4f1c-b0bc-4ecc68d69263",
   "metadata": {},
   "source": [
    "# 01PAO25-25 - Python, Data Types\n",
    "\n",
    "![Instituto Superior Tecnológico Quito](Recurso-26.png)\n",
    "\n",
    "**Nombre:** Germán Del Río  \n",
    "**Fecha:** 21/07/2055  \n",
    "**PruebaN:** 03\n",
    "\n",
    "---\n",
    "\n",
    "![Python Logo](python_logo.png)\n",
    "\n",
    "[-- Enlace al Repositorio](https://github.com/Saquis/MachineLearning/tree/main/Pruebas/PruebaTercerParcial)"
   ]
  },
  {
   "cell_type": "markdown",
   "id": "ceb43abb-8e22-41ed-a2e0-93239710ea72",
   "metadata": {},
   "source": [
    "# Examen del Tercer Parcial \n",
    "## Regresión lineal\n",
    "Dado el archivo **movie_genre_classification_final.csv** se encuentra un base de datos con información de **50000 películas** que incluyen variables como: <br>\n",
    " * Título,\n",
    " * Año de estreno,\n",
    " * Duración,\n",
    " * Puntuación promedio,\n",
    " * Número de votos,\n",
    " * Presupuesto,\n",
    " * Ingresos en taquilla,\n",
    " * Número de premios obtenidos,\n",
    " * Entre otras caracterisiticas.\n",
    "Como parate del análisis de predicción, se desea estudiar la relación entre el:<br>\n",
    "* Presupuesto de una película\n",
    "y sus caracteristicas cuantitativas, para estimar la **recaudación en taquilla (BoxOffice_USD)**. Para ello, se plantea entrenar un modelo de regresión lineal.<br>\n",
    "\n",
    "# Objetivo \n",
    "Predecir el valor de la variable **BoxOffice_USD** a partir de variables numéricas independientes disponibles en el dataset, tales como:<br>\n",
    "* Budget_USD (Presupuesto en dólares)\n",
    "* Duration (Duración en minutos)\n",
    "* Ratting (Calificiación Promedio\"\n",
    "* Votes (Número de votos)\n",
    "* Num_Awards (Número de premios obtenidos)\n",
    "* Critic_reviews (Números de reseñas de criticos)\n",
    "\n",
    "El dataset fue extraido desder <a href=\"https://www.kaggle.com/datasets/therohithanand/movie-genre-classification\">DataSet<a> <br>\n",
    "\n",
    "## Entrega esperada\n",
    "* Código bien estructurado y comentado\n",
    "* Gráficos claros en los pasos 2, 4 y 5.\n",
    "* Breve análisis escrito de lso los resultados obtenidos.\n",
    "\n"
   ]
  },
  {
   "cell_type": "code",
   "execution_count": 2,
   "id": "5ef16dd6-76ce-404a-a54a-57d30d60273d",
   "metadata": {},
   "outputs": [
    {
     "name": "stdout",
     "output_type": "stream",
     "text": [
      "Jupyter detected...\n",
      "3 channel Terms of Service accepted\n",
      "Channels:\n",
      " - defaults\n",
      "Platform: win-64\n",
      "Collecting package metadata (repodata.json): done\n",
      "Solving environment: done\n",
      "\n",
      "# All requested packages already installed.\n",
      "\n",
      "Jupyter detected...\n",
      "3 channel Terms of Service accepted\n",
      "Channels:\n",
      " - defaults\n",
      "Platform: win-64\n",
      "Collecting package metadata (repodata.json): done\n",
      "Solving environment: done\n",
      "\n",
      "# All requested packages already installed.\n",
      "\n",
      "Jupyter detected...\n",
      "3 channel Terms of Service accepted\n",
      "Channels:\n",
      " - defaults\n",
      "Platform: win-64\n",
      "Collecting package metadata (repodata.json): done\n",
      "Solving environment: done\n",
      "\n",
      "# All requested packages already installed.\n",
      "\n",
      "Jupyter detected...\n",
      "3 channel Terms of Service accepted\n",
      "Channels:\n",
      " - defaults\n",
      "Platform: win-64\n",
      "Collecting package metadata (repodata.json): done\n",
      "Solving environment: done\n",
      "\n",
      "# All requested packages already installed.\n",
      "\n",
      "Jupyter detected...\n",
      "3 channel Terms of Service accepted\n",
      "Channels:\n",
      " - defaults\n",
      "Platform: win-64\n",
      "Collecting package metadata (repodata.json): done\n",
      "Solving environment: done\n",
      "\n",
      "# All requested packages already installed.\n",
      "\n"
     ]
    }
   ],
   "source": [
    "# Instalación necessarias e impotacioneks  // Se ejecuta de esta forma por que estaba dando error en el kernel de python, ejor trabajar con directamente con el env de conda.\n",
    "\n",
    "\n",
    "!conda install pandas -y\n",
    "!conda install numpy -y\n",
    "!conda install matplotlib -y\n",
    "!conda install seaborn -y\n",
    "!conda install scikit-learn -y\n",
    "\n",
    "# Importaciones \n",
    "\n",
    "import pandas as pd\n",
    "import numpy as np\n",
    "import matplotlib.pyplot as plt\n",
    "import seaborn as sns\n",
    "import re\n",
    "from sklearn.model_selection import train_test_split\n",
    "from sklearn.linear_model import LinearRegression #Modelo de regresión\n",
    "from sklearn.metrics import mean_squared_error, r2_score #Metricas \n",
    "\n",
    "\n",
    "\n"
   ]
  },
  {
   "cell_type": "code",
   "execution_count": 7,
   "id": "016bdbe6-0970-4ff9-97a2-d946130f6f1a",
   "metadata": {},
   "outputs": [],
   "source": [
    "# Lectura de datos\n",
    "# Configuración de visualización\n",
    "plt.style.use('default')           # Estilo limpio\n",
    "sns.set_palette(\"husl\")            # Paleta atractiva\n",
    "sns.set_context(\"notebook\", font_scale=1.1)"
   ]
  },
  {
   "cell_type": "code",
   "execution_count": null,
   "id": "b8a94962-0be3-4d4d-9ce1-4636f541ece5",
   "metadata": {},
   "outputs": [],
   "source": []
  },
  {
   "cell_type": "markdown",
   "id": "db575cb5-cec8-4272-902d-75e9c28d10a1",
   "metadata": {},
   "source": [
    "# Analisis obtenidos  \n",
    "A pesar de las diferencias en presupuesto, votos y calificación, el modelo predice valores similares de taquilla para las distintas películas. El modelo no esta captando las relaciones lineales o variables no son sunficientes. Me parece que entra mucho regresion polineal la verdad. "
   ]
  },
  {
   "cell_type": "code",
   "execution_count": null,
   "id": "b98f4a0a-2277-4210-b242-e40334afb6e3",
   "metadata": {},
   "outputs": [],
   "source": []
  }
 ],
 "metadata": {
  "kernelspec": {
   "display_name": "Python 3 (ipykernel)",
   "language": "python",
   "name": "python3"
  },
  "language_info": {
   "codemirror_mode": {
    "name": "ipython",
    "version": 3
   },
   "file_extension": ".py",
   "mimetype": "text/x-python",
   "name": "python",
   "nbconvert_exporter": "python",
   "pygments_lexer": "ipython3",
   "version": "3.13.5"
  }
 },
 "nbformat": 4,
 "nbformat_minor": 5
}
