{
 "cells": [
  {
   "cell_type": "markdown",
   "id": "ce86dfb2-d3fa-4b0e-ad1f-595105a6179e",
   "metadata": {},
   "source": [
    "# 01PAO25-25 - Python, Data Types\n",
    "\n",
    "![Instituto Superior Tecnológico Quito](img/Recurso-26.png)\n",
    "\n",
    "**Nombre:** Germán Del Río  \n",
    "**Fecha:** 26/06/2055\n",
    "\n",
    "---\n",
    "\n",
    "\n",
    "![Python Logo](img/python_logo.png)\n",
    "\n",
    "<a href=\"https://github.com/Saquis/MachineLearning.git \">Enlace al Repositorio</a>"
   ]
  },
  {
   "cell_type": "code",
   "execution_count": 7,
   "id": "428c7e80-e2f0-4f38-a197-94d36f4ad7a7",
   "metadata": {},
   "outputs": [
    {
     "name": "stdout",
     "output_type": "stream",
     "text": [
      "Hello world\n"
     ]
    }
   ],
   "source": [
    "# Esto es una instrucción print\n",
    "print('Hello world')   # Esto es una instrucción print"
   ]
  },
  {
   "cell_type": "code",
   "execution_count": 8,
   "id": "12289d72-c3d8-4d59-b7ad-777c72676e78",
   "metadata": {},
   "outputs": [],
   "source": [
    "def producto(x, y):\n",
    "    '''\n",
    "        Esta función recibe dos números como parámetros y devuelve\n",
    "        como resultado el producto de los mismos.\n",
    "    '''\n",
    "    return x * y"
   ]
  },
  {
   "cell_type": "code",
   "execution_count": 10,
   "id": "8cd43d4c-573d-4f01-9706-f007e40164c0",
   "metadata": {},
   "outputs": [
    {
     "name": "stdout",
     "output_type": "stream",
     "text": [
      "12\n"
     ]
    }
   ],
   "source": [
    "print(producto(3, 4))"
   ]
  },
  {
   "cell_type": "code",
   "execution_count": 11,
   "id": "c4070af8-fb86-482b-bd60-3d5f5ae41ff4",
   "metadata": {},
   "outputs": [
    {
     "name": "stdout",
     "output_type": "stream",
     "text": [
      "1\n",
      "<class 'int'>\n",
      "4.0\n",
      "<class 'float'>\n",
      "VIU\n",
      "<class 'str'>\n",
      "(10+1j)\n",
      "<class 'complex'>\n",
      "True\n",
      "<class 'bool'>\n",
      "None\n",
      "<class 'NoneType'>\n"
     ]
    }
   ],
   "source": [
    "a = 1                 # entero\n",
    "b = 4.0               # coma flotante\n",
    "c = \"VIU\"             # string\n",
    "d = 10 + 1j           # número complejo\n",
    "e = True              # booleano (también puede ser False)\n",
    "f = None              # NoneType\n",
    "\n",
    "# Mostrar valor y tipo de cada variable\n",
    "print(a)\n",
    "print(type(a))\n",
    "\n",
    "print(b)\n",
    "print(type(b))\n",
    "\n",
    "print(c)\n",
    "print(type(c))\n",
    "\n",
    "print(d)\n",
    "print(type(d))\n",
    "\n",
    "print(e)\n",
    "print(type(e))\n",
    "\n",
    "print(f)\n",
    "print(type(f))"
   ]
  },
  {
   "cell_type": "code",
   "execution_count": 12,
   "id": "aeb29d09-ab12-470f-aed5-32e31b779e47",
   "metadata": {},
   "outputs": [
    {
     "name": "stdout",
     "output_type": "stream",
     "text": [
      "140703957758952\n",
      "2354912909936\n",
      "2354885669552\n"
     ]
    }
   ],
   "source": [
    "# Asignamos un entero a 'a'\n",
    "a = 3\n",
    "print(id(a))  # Imprime la identidad del objeto entero 3\n",
    "\n",
    "# Asignamos una cadena a 'a'\n",
    "a = 'Pablo García'\n",
    "print(id(a))  # Imprime la identidad del objeto cadena 'Pablo García'\n",
    "\n",
    "# Asignamos un float a 'a'\n",
    "a = 4.5\n",
    "print(id(a))  # Imprime la identidad del objeto flotante 4.5"
   ]
  },
  {
   "cell_type": "code",
   "execution_count": 13,
   "id": "750d9875-46dd-4451-bcf9-d19a00528408",
   "metadata": {},
   "outputs": [
    {
     "name": "stdout",
     "output_type": "stream",
     "text": [
      "2354885671344\n",
      "2354885671344\n",
      "2354885671408\n"
     ]
    }
   ],
   "source": [
    "a = 4567\n",
    "print(id(a))\n",
    "\n",
    "b = a\n",
    "print(id(b))\n",
    "\n",
    "c = 4567\n",
    "print(id(c))\n"
   ]
  },
  {
   "cell_type": "code",
   "execution_count": 14,
   "id": "d594f87f-38bf-4444-ac61-1bf66c12b18b",
   "metadata": {},
   "outputs": [
    {
     "name": "stdout",
     "output_type": "stream",
     "text": [
      "140703957759656\n",
      "140703957759656\n",
      "140703957759656\n"
     ]
    }
   ],
   "source": [
    "a = 25\n",
    "b = 25\n",
    "c = 25\n",
    "\n",
    "print(id(a))\n",
    "print(id(b))\n",
    "print(id(c))"
   ]
  },
  {
   "cell_type": "code",
   "execution_count": 15,
   "id": "e741413a-c6f5-4ca9-bbef-258fa06dc14e",
   "metadata": {},
   "outputs": [
    {
     "name": "stdout",
     "output_type": "stream",
     "text": [
      "2354885671376\n",
      "2354885671824\n",
      "2354885671952\n"
     ]
    }
   ],
   "source": [
    "a = 258\n",
    "b = 258\n",
    "\n",
    "print(id(a))\n",
    "print(id(b))\n",
    "print(id(258))"
   ]
  },
  {
   "cell_type": "code",
   "execution_count": 16,
   "id": "b586145e-482e-4d55-91af-21b4f2909d23",
   "metadata": {},
   "outputs": [
    {
     "name": "stdout",
     "output_type": "stream",
     "text": [
      "Identidad de 'a': 2354885670544\n",
      "Identidad de 'b': 2354885670544\n",
      "Resultado de la suma: 8\n",
      "Identidad de 'c': 140703957759112\n"
     ]
    }
   ],
   "source": [
    "# Asignación de variables y uso de id()\n",
    "a = 400\n",
    "b = a\n",
    "print(\"Identidad de 'a':\", id(a))\n",
    "print(\"Identidad de 'b':\", id(b))\n",
    "\n",
    "# Variables en expresiones\n",
    "a = 3\n",
    "b = 5\n",
    "c = a + b\n",
    "print(\"Resultado de la suma:\", c)\n",
    "print(\"Identidad de 'c':\", id(c))"
   ]
  },
  {
   "cell_type": "code",
   "execution_count": 17,
   "id": "03f5a1df-999e-42c2-956b-36946c729d8c",
   "metadata": {},
   "outputs": [
    {
     "name": "stdout",
     "output_type": "stream",
     "text": [
      "27\n",
      "4\n",
      "1 2 3\n",
      "(1, 2, 3, 'Python')\n",
      "<class 'tuple'>\n",
      "2 1\n",
      "2 1\n"
     ]
    }
   ],
   "source": [
    "# Ejemplo 1: Uso de la función pow()\n",
    "print(pow(3, 3))  # Eleva 3 a la potencia de 3\n",
    "print(pow(2, 2))  # Eleva 2 a la potencia de 2\n",
    "\n",
    "# Ejemplo 2: Reasignación de una función built-in (pow)\n",
    "# pow = 1  # Esto reasigna la función built-in 'pow' a un entero\n",
    "# print(pow)  # Ahora 'pow' es un entero\n",
    "# print(pow(3, 2))  # Esto generará un error porque 'pow' ya no es una función\n",
    "\n",
    "# Ejemplo 3: Definición de una función personalizada\n",
    "def pow(a, b):\n",
    "    return a + b\n",
    "\n",
    "# Ejemplo 4: Asignación múltiple de variables\n",
    "x, y, z = 1, 2, 3\n",
    "print(x, y, z)\n",
    "\n",
    "t = x, y, z, \"Python\"\n",
    "print(t)\n",
    "print(type(t))\n",
    "\n",
    "# Ejemplo 5: Intercambio de valores entre dos variables\n",
    "a = 1\n",
    "b = 2\n",
    "a, b = b, a  # Intercambia los valores de 'a' y 'b'\n",
    "print(a, b)\n",
    "\n",
    "# Ejemplo 6: Intercambio de valores usando una variable temporal\n",
    "a = 1\n",
    "b = 2\n",
    "c = a  # Guarda el valor de 'a' en 'c'\n",
    "a = b  # Asigna el valor de 'b' a 'a'\n",
    "b = c  # Asigna el valor guardado en 'c' a 'b'\n",
    "print(a, b)"
   ]
  },
  {
   "cell_type": "code",
   "execution_count": 18,
   "id": "80be0907-130a-455f-873c-5286f8cdb8a6",
   "metadata": {},
   "outputs": [
    {
     "name": "stdout",
     "output_type": "stream",
     "text": [
      "False\n",
      "<class 'bool'>\n",
      "True\n",
      "<class 'bool'>\n",
      "140703956847072\n",
      "140703956847072\n",
      "True\n",
      "True\n",
      "2\n",
      "3.4\n",
      "(2+4j)\n",
      "0.5\n",
      "True\n"
     ]
    }
   ],
   "source": [
    "# Variables booleanas\n",
    "a = False\n",
    "b = True\n",
    "\n",
    "print(a)\n",
    "print(type(a))\n",
    "\n",
    "print(b)\n",
    "print(type(b))\n",
    "\n",
    "#  Identidad de objetos booleanos\n",
    "a = True\n",
    "b = True\n",
    "\n",
    "print(id(a))\n",
    "print(id(b))\n",
    "\n",
    "print(a is b)  # Comprueba si 'a' y 'b' son el mismo objeto\n",
    "print(a == b)  # Comprueba si 'a' y 'b' tienen el mismo valor\n",
    "\n",
    "# Ejemplo 3: Diferentes tipos de números\n",
    "print(2)        # Entero (sin parte fraccionaria)\n",
    "print(3.4)      # Número flotante (con parte fraccionaria)\n",
    "print(2 + 4j)   # Número complejo\n",
    "print(1 / 2)    # Número racional (fracción)\n",
    "\n",
    "# Ejemplo 4: Representaciones numéricas en diferentes bases\n",
    "x = 58          # Decimal\n",
    "z = 0b000111010 # Binario\n",
    "w = 0o72        # Octal\n",
    "y = 0x3A        # Hexadecimal\n",
    "\n",
    "print(x == y == z == w)  # Verifica si todos representan el mismo número"
   ]
  },
  {
   "cell_type": "code",
   "execution_count": 19,
   "id": "fff2ccef-adb2-410d-be3f-4ec2e207db0c",
   "metadata": {},
   "outputs": [
    {
     "name": "stdout",
     "output_type": "stream",
     "text": [
      "J\n",
      "e\n",
      "ohn \"ee\n",
      "John \"ee\" Doe\n",
      "John \"ee\" Doez\n",
      "2\n",
      "<class 'int'>\n",
      "3\n",
      "<class 'int'>\n",
      "1.0\n",
      "<class 'float'>\n",
      "3.0\n",
      "<class 'float'>\n",
      "2\n",
      "<class 'str'>\n",
      "3.0\n",
      "<class 'str'>\n",
      "True\n",
      "<class 'bool'>\n",
      "False\n",
      "<class 'bool'>\n",
      "True\n",
      "<class 'bool'>\n",
      "False\n",
      "<class 'bool'>\n",
      "False\n",
      "<class 'bool'>\n"
     ]
    }
   ],
   "source": [
    "#  Operaciones con cadenas (strings)\n",
    "s = 'John \"ee\" Doe'\n",
    "\n",
    "print(s[0])          # Primer carácter del string.\n",
    "print(s[-1])         # Último carácter del string.\n",
    "print(s[1:8])        # Substring desde el segundo carácter (inclusive) hasta el octavo (exclusivo).\n",
    "print(s[:])          # Todo el string.\n",
    "print(s + \"z\")       # Concatenación.\n",
    "\n",
    "# Conversión entre tipos (casting)\n",
    "a = int(2.8)         # a será 2\n",
    "b = int(\"3\")         # b será 3\n",
    "c = float(1)         # c será 1.0\n",
    "d = float(\"3\")       # d será 3.0\n",
    "e = str(2)           # e será '2'\n",
    "f = str(3.0)         # f será '3.0'\n",
    "g = bool(\"a\")        # g será True\n",
    "h = bool(\"\")         # h será False\n",
    "i = bool(3)          # i será True\n",
    "j = bool(0)          # j será False\n",
    "k = bool(None)       # k será False\n",
    "\n",
    "print(a)\n",
    "print(type(a))\n",
    "print(b)\n",
    "print(type(b))\n",
    "print(c)\n",
    "print(type(c))\n",
    "print(d)\n",
    "print(type(d))\n",
    "print(e)\n",
    "print(type(e))\n",
    "print(f)\n",
    "print(type(f))\n",
    "print(g)\n",
    "print(type(g))\n",
    "print(h)\n",
    "print(type(h))\n",
    "print(i)\n",
    "print(type(i))\n",
    "print(j)\n",
    "print(type(j))\n",
    "print(k)\n",
    "print(type(k))"
   ]
  },
  {
   "cell_type": "code",
   "execution_count": 20,
   "id": "12d63f1d-52f7-4448-9fd7-aa1692a7107f",
   "metadata": {},
   "outputs": [
    {
     "name": "stdout",
     "output_type": "stream",
     "text": [
      "x + y =  5\n",
      "x - y =  1\n",
      "x * y =  6\n",
      "x / y =  1.5\n",
      "x // y =  1\n",
      "x % y =  1\n",
      "x ** y =  9\n",
      "x > y es  False\n",
      "x < y es  True\n",
      "x == y es  False\n",
      "x != y es  True\n",
      "x >= y es  False\n",
      "x <= y es  True\n",
      "a and b es False\n",
      "a or b es True\n",
      "a ^ b es True\n"
     ]
    }
   ],
   "source": [
    "#  Operaciones aritméticas básicas\n",
    "x = 3\n",
    "y = 2\n",
    "\n",
    "print('x + y = ', x + y)    # Suma\n",
    "print('x - y = ', x - y)    # Resta\n",
    "print('x * y = ', x * y)    # Multiplicación\n",
    "print('x / y = ', x / y)    # División (resultado flotante)\n",
    "print('x // y = ', x // y)  # División entera (parte entera del cociente)\n",
    "print('x % y = ', x % y)    # Módulo (resto de la división)\n",
    "print('x ** y = ', x ** y)  # Potencia\n",
    "\n",
    "#  Operadores de comparación\n",
    "x = 10\n",
    "y = 12\n",
    "\n",
    "print('x > y es ', x > y)   # Mayor que\n",
    "print('x < y es ', x < y)   # Menor que\n",
    "print('x == y es ', x == y) # Igualdad\n",
    "print('x != y es ', x != y) # Desigualdad\n",
    "print('x >= y es ', x >= y) # Mayor o igual que\n",
    "print('x <= y es ', x <= y) # Menor o igual que\n",
    "\n",
    "#  Operadores lógicos\n",
    "a = True\n",
    "b = False\n",
    "\n",
    "print('a and b es', a and b)  # AND lógico\n",
    "print('a or b es', a or b)    # OR lógico\n",
    "print('a ^ b es', a ^ b)      # XOR lógico"
   ]
  },
  {
   "cell_type": "code",
   "execution_count": 1,
   "id": "7390f4d2-4739-4399-a120-6860394fe324",
   "metadata": {},
   "outputs": [
    {
     "name": "stdout",
     "output_type": "stream",
     "text": [
      "True\n",
      "True\n",
      "True\n",
      "False\n"
     ]
    },
    {
     "name": "stdin",
     "output_type": "stream",
     "text": [
      "Inserte valor: 35\n"
     ]
    },
    {
     "name": "stdout",
     "output_type": "stream",
     "text": [
      "35\n"
     ]
    },
    {
     "name": "stdin",
     "output_type": "stream",
     "text": [
      "Conversión de grados a Fahrenheit, inserte un valor:  2\n"
     ]
    },
    {
     "name": "stdout",
     "output_type": "stream",
     "text": [
      "Grados F: 35.6\n"
     ]
    }
   ],
   "source": [
    "#  Operadores de pertenencia\n",
    "x = 'Hola Mundo'\n",
    "y = {1:'a', 2:'b'}\n",
    "\n",
    "print('H' in x)          # True\n",
    "print('hola' not in x)   # True\n",
    "\n",
    "print(1 in y)            # True\n",
    "print('a' in y)          # False\n",
    "\n",
    "#  Entrada de valores\n",
    "value = input(\"Inserte valor:\")\n",
    "print(value)\n",
    "\n",
    "#  Conversión de grados Celsius a Fahrenheit\n",
    "grados_c = input(\"Conversión de grados a Fahrenheit, inserte un valor: \")\n",
    "print(f\"Grados F: {1.8 * int(grados_c) + 32}\")"
   ]
  },
  {
   "cell_type": "code",
   "execution_count": 22,
   "id": "d224068c-45cd-41e7-81c6-8f4669b9c8be",
   "metadata": {},
   "outputs": [
    {
     "name": "stdout",
     "output_type": "stream",
     "text": [
      "c\n",
      "d\n"
     ]
    }
   ],
   "source": [
    "# Creación de listas\n",
    "letras = ['a', 'b', 'c', 'd']  # Lista de caracteres\n",
    "palabras = 'Hola mundo'.split()  # Divide una cadena en subcadenas usando split()\n",
    "numeros = list(range(5))  # Crea una lista con números del 0 al 4\n",
    "\n",
    "# Acceso a elementos de una lista\n",
    "print(letras[2])  # Acceso al tercer elemento (índice 2)\n",
    "print(letras[-1])  # Acceso al último elemento (índice -1)\n",
    "\n",
    "# Características de las listas\n",
    "mezcla = [1, 3.4, 'a', None, False]  # Pueden contener elementos heterogéneos\n",
    "lista_con_funcion = [1, 2, len]  # Pueden contener objetos más \"complejos\"\n",
    "lista_con_duplicados = [1, 2, 3, 3, 3, 4]  # Pueden contener duplicados"
   ]
  },
  {
   "cell_type": "code",
   "execution_count": 23,
   "id": "7b2241ae-e348-4cd0-9786-86b008134fc9",
   "metadata": {},
   "outputs": [
    {
     "name": "stdout",
     "output_type": "stream",
     "text": [
      "['b', 'c']\n",
      "['a']\n",
      "['a', 'b', 'c']\n",
      "['c', 'd']\n",
      "['a', 'b', 'c', 'd']\n",
      "['a', 'c']\n",
      "['a', 'b', 'c', 'd']\n",
      "2354913424768\n",
      "['a', 'b', 'c', 'd']\n",
      "2354913405696\n",
      "['a', 'b', 'c', 'd', 'e']\n",
      "['a', 'b', 'c', 'd', 'e', 'f']\n"
     ]
    }
   ],
   "source": [
    "# Slicing: Obtención de un fragmento de una lista\n",
    "letras = ['a', 'b', 'c', 'd']\n",
    "\n",
    "print(letras[1:3])  # Toma elementos desde el índice 1 hasta el 2 (excluyendo el 3)\n",
    "print(letras[:1])   # Toma todos los elementos desde el inicio hasta el índice 0\n",
    "print(letras[:-1])  # Toma todos los elementos desde el inicio hasta el penúltimo\n",
    "print(letras[2:])   # Toma todos los elementos desde el índice 2 hasta el final\n",
    "print(letras[:])    # Copia completa de la lista\n",
    "print(letras[::2])  # Toma elementos con un paso de 2\n",
    "\n",
    "# Copiar una lista\n",
    "a = letras[:]\n",
    "print(a)\n",
    "print(id(a))  # Verifica la identidad de la copia\n",
    "\n",
    "print(letras.copy())  # Otra forma de copiar una lista\n",
    "print(id(letras.copy()))  # Verifica la identidad de la copia\n",
    "\n",
    "# Añadir un elemento al final de la lista\n",
    "letras.append('e')\n",
    "print(letras)\n",
    "\n",
    "# Concatenar elementos a la lista\n",
    "letras += 'f'\n",
    "print(letras)"
   ]
  },
  {
   "cell_type": "code",
   "execution_count": 26,
   "id": "1d67de0d-e970-4a22-bdd4-f1086e762c50",
   "metadata": {},
   "outputs": [
    {
     "name": "stdout",
     "output_type": "stream",
     "text": [
      "Lista después de append: ['a', 'b', 'c', 'd', 'e', 'f']\n",
      "ID de la lista: 2354927514496\n",
      "Lista después de insert: ['a', 'b', 'c', 'd', 'e', 'z', 'f']\n",
      "Lista después de slicing: ['z', 'b', 'z', 'd', 'z', 'f', 'g', 'h', 'i', 'j', 'k']\n",
      "ID de la lista después de reasignación: 2354927517440\n",
      "Lista con anidamiento: [1, [10, 20, 30], 3]\n",
      "Elemento anidado: 30\n",
      "Lista después de remove: ['b', 'z', 'd', 'z', 'f', 'g', 'h', 'i', 'j', 'k']\n",
      "Elemento eliminado: k\n",
      "Lista final: ['b', 'z', 'd', 'z', 'f', 'g', 'h', 'i', 'j']\n"
     ]
    }
   ],
   "source": [
    "# Modificación de elementos en una lista\n",
    "letras = ['a', 'b', 'c', 'd', 'e']\n",
    "\n",
    "# Agregar un nuevo elemento al final\n",
    "letras.append('f')  # Forma correcta de agregar al final\n",
    "print(\"Lista después de append:\", letras)\n",
    "print(\"ID de la lista:\", id(letras))  # Verificar que es la misma lista\n",
    "\n",
    "# Opcional: Insertar en una posición específica\n",
    "letras.insert(5, 'z')  # Inserta 'z' en la posición 5\n",
    "print(\"Lista después de insert:\", letras)\n",
    "\n",
    "# Modificación múltiple usando slicing\n",
    "letras = ['a', 'b', 'c', 'd', 'e', 'f', 'g', 'h', 'i', 'j', 'k']\n",
    "\n",
    "# Reemplazar elementos seleccionados por slicing con paso\n",
    "letras[0:6:2] = ['z', 'z', 'z']  # Ahora coincide el tamaño\n",
    "print(\"Lista después de slicing:\", letras)\n",
    "print(\"ID de la lista después de reasignación:\", id(letras))\n",
    "\n",
    "# Diferencia entre modificación individual y múltiple\n",
    "numeros = [1, 2, 3]\n",
    "numeros[1] = [10, 20, 30]  # Asignación individual crea anidamiento\n",
    "print(\"Lista con anidamiento:\", numeros)\n",
    "\n",
    "# Acceso a elementos anidados\n",
    "print(\"Elemento anidado:\", numeros[1][2])  # Acceder al tercer elemento del subelemento anidado\n",
    "\n",
    "# Eliminar un elemento\n",
    "if 'z' in letras:\n",
    "    letras.remove('z')  # Eliminar la primera ocurrencia de 'z'\n",
    "print(\"Lista después de remove:\", letras)\n",
    "\n",
    "# Eliminar el último elemento y devolverlo\n",
    "elemento = letras.pop()\n",
    "print(\"Elemento eliminado:\", elemento)  # Imprimir el elemento eliminado\n",
    "print(\"Lista final:\", letras)  # Imprimir la lista actualizada"
   ]
  },
  {
   "cell_type": "code",
   "execution_count": 27,
   "id": "2bbbac30-5481-4a15-b500-f15cd88c4992",
   "metadata": {},
   "outputs": [
    {
     "name": "stdout",
     "output_type": "stream",
     "text": [
      "frutas: ['manzana', 'banana', 'cereza']\n",
      "frutas2: ['manzana', 'banana', 'cereza']\n",
      "Lista ordenada (ascendente): [1, 3, 4, 8]\n",
      "Lista ordenada (descendente): [8, 4, 3, 1]\n",
      "Lista original: ['Huevos', 'Pan', 'Leche']\n",
      "Lista ordenada: ['Huevos', 'Leche', 'Pan']\n",
      "True\n",
      "False\n",
      "a\n",
      "x\n",
      "k\n"
     ]
    }
   ],
   "source": [
    "# Copiar una lista\n",
    "frutas = ['manzana', 'banana', 'cereza']\n",
    "frutas2 = frutas.copy()  # Copia de la lista original\n",
    "print(\"frutas:\", frutas)\n",
    "print(\"frutas2:\", frutas2)\n",
    "\n",
    "# Ordenar una lista\n",
    "lista = [4, 3, 8, 1]\n",
    "lista.sort()  # Ordena la lista en orden ascendente\n",
    "print(\"Lista ordenada (ascendente):\", lista)\n",
    "\n",
    "lista.sort(reverse=True)  # Ordena la lista en orden descendente\n",
    "print(\"Lista ordenada (descendente):\", lista)\n",
    "\n",
    "# Los elementos deben ser comparables para poderse ordenar\n",
    "# Intentar ordenar una lista con tipos diferentes generará un error\n",
    "# lista = [1, \"a\"]\n",
    "# lista.sort()  # Esto dará un TypeError\n",
    "\n",
    "# Ordenar una lista usando sorted()\n",
    "compra = ['Huevos', 'Pan', 'Leche']\n",
    "print(\"Lista original:\", compra)\n",
    "print(\"Lista ordenada:\", sorted(compra))\n",
    "\n",
    "# Pertenencia\n",
    "lista = [1, 2, 3, 4]\n",
    "print(1 in lista)  # Verifica si 1 está en la lista\n",
    "print(5 in lista)  # Verifica si 5 está en la lista\n",
    "\n",
    "# Anidamiento\n",
    "letras = ['a', 'b', 'c', ['x', 'y'], ['i', 'j', 'k']]\n",
    "print(letras[0])  # Acceso al primer elemento\n",
    "print(letras[3][0])  # Acceso a un elemento anidado\n",
    "print(letras[4][2][0])  # Acceso a un elemento más anidado"
   ]
  },
  {
   "cell_type": "markdown",
   "id": "a9b04500-2f35-4784-a646-298c7399e51c",
   "metadata": {},
   "source": [
    "DICCIONARIOS "
   ]
  },
  {
   "cell_type": "code",
   "execution_count": 2,
   "id": "5582c766-8d49-4bd0-a4ae-f8b91f6b2516",
   "metadata": {},
   "outputs": [
    {
     "name": "stdout",
     "output_type": "stream",
     "text": [
      "{'DNI': '11111111', 'Nombre': 'Carlos', 'Edad': 34}\n",
      "{'Pablo': 52, 'Manolo': 14, 'Pepe': 65}\n",
      "{'nombre': 'Rosa', 'apellido': 'Garcia'}\n",
      "{'nombre': 'Rosa', 'apellido': 'Garcia'}\n",
      "22222222\n",
      "{'DNI': '22222222', 'Nombre': 'Carlos', 'Edad': 34}\n"
     ]
    }
   ],
   "source": [
    "# Celda 1\n",
    "persona = {'DNI': '11111111', 'Nombre': 'Carlos', 'Edad': 34}\n",
    "# Crea un diccionario con claves 'DNI', 'Nombre' y 'Edad' y sus valores.\n",
    "print(persona)\n",
    "# Imprime el diccionario completo.\n",
    "\n",
    "# Celda 2\n",
    "nombres = ['Pablo', 'Manolo', 'Pepe', 'Juan']\n",
    "# Crea una lista con nombres.\n",
    "edades = [52, 14, 65]\n",
    "# Crea una lista con edades.\n",
    "datos = dict(zip(nombres, edades))\n",
    "# Combina las listas en un diccionario usando zip.\n",
    "print(datos)\n",
    "# Imprime el diccionario resultante.\n",
    "\n",
    "# Celda 3\n",
    "persona2 = dict(nombre='Rosa', apellido='Garcia')\n",
    "# Crea un diccionario pasando claves y valores como argumentos.\n",
    "print(persona2)\n",
    "# Imprime el diccionario completo.\n",
    "\n",
    "# Celda 4\n",
    "persona3 = dict([('nombre', 'Rosa'), ('apellido', 'Garcia')])\n",
    "# Crea un diccionario a partir de una lista de tuplas.\n",
    "print(persona3)\n",
    "# Imprime el diccionario completo.\n",
    "\n",
    "# Celda 5\n",
    "persona = {}\n",
    "# Inicializa un diccionario vacío.\n",
    "persona['DNI'] = '11111111'\n",
    "# Asigna el valor '11111111' a la clave 'DNI'.\n",
    "persona['Nombre'] = 'Carlos'\n",
    "# Asigna el valor 'Carlos' a la clave 'Nombre'.\n",
    "persona['Edad'] = 34\n",
    "# Asigna el valor 34 a la clave 'Edad'.\n",
    "persona['DNI'] = '22222222'\n",
    "# Reasigna un nuevo valor a la clave 'DNI'.\n",
    "print(persona['DNI'])\n",
    "# Imprime el valor de 'DNI'.\n",
    "print(persona)\n",
    "# Imprime el diccionario actualizado."
   ]
  },
  {
   "cell_type": "code",
   "execution_count": null,
   "id": "63039908-bad2-4608-81cf-993d4a455256",
   "metadata": {},
   "outputs": [],
   "source": []
  }
 ],
 "metadata": {
  "kernelspec": {
   "display_name": "Python 3 (ipykernel)",
   "language": "python",
   "name": "python3"
  },
  "language_info": {
   "codemirror_mode": {
    "name": "ipython",
    "version": 3
   },
   "file_extension": ".py",
   "mimetype": "text/x-python",
   "name": "python",
   "nbconvert_exporter": "python",
   "pygments_lexer": "ipython3",
   "version": "3.13.5"
  }
 },
 "nbformat": 4,
 "nbformat_minor": 5
}
